{
 "cells": [
  {
   "cell_type": "code",
   "execution_count": null,
   "id": "9d2466dc",
   "metadata": {},
   "outputs": [],
   "source": [
    "import pandas as pd\n",
    "import seaborn as sns\n",
    "import matplotlib.pyplot as plt"
   ]
  },
  {
   "cell_type": "code",
   "execution_count": null,
   "id": "e8abd466",
   "metadata": {},
   "outputs": [],
   "source": [
    "df = pd.read_csv(r\"C:\\Users\\Mnced\\Documents\\Python\\world_population.csv\")\n",
    "df"
   ]
  },
  {
   "cell_type": "code",
   "execution_count": null,
   "id": "749ee6ef",
   "metadata": {},
   "outputs": [],
   "source": [
    "# Set display format for floating-point numbers\n",
    "pd.set_option('display.float_format', lambda x: '%.2f' % x)"
   ]
  },
  {
   "cell_type": "code",
   "execution_count": null,
   "id": "8720b294",
   "metadata": {},
   "outputs": [],
   "source": [
    "df.info()"
   ]
  },
  {
   "cell_type": "code",
   "execution_count": null,
   "id": "10be4e28",
   "metadata": {},
   "outputs": [],
   "source": [
    "df.describe()"
   ]
  },
  {
   "cell_type": "code",
   "execution_count": null,
   "id": "02c27d50",
   "metadata": {},
   "outputs": [],
   "source": [
    "# Check how many null values are in the data per column\n",
    "df.isnull().sum()"
   ]
  },
  {
   "cell_type": "code",
   "execution_count": null,
   "id": "8d216d56",
   "metadata": {},
   "outputs": [],
   "source": [
    "# How many unique per column\n",
    "df.nunique()"
   ]
  },
  {
   "cell_type": "code",
   "execution_count": null,
   "id": "388b0790",
   "metadata": {},
   "outputs": [],
   "source": [
    "# Top range country \n",
    "df.sort_values(by=\"2022 Population\", ascending=False).head(12)"
   ]
  },
  {
   "cell_type": "code",
   "execution_count": null,
   "id": "dc0405d0",
   "metadata": {},
   "outputs": [],
   "source": [
    "# Converting float to string for each value in a column\n",
    "df[\"CCA3\"] = df[\"CCA3\"].apply(lambda x: str(x))"
   ]
  },
  {
   "cell_type": "code",
   "execution_count": null,
   "id": "7aefc0bc",
   "metadata": {},
   "outputs": [],
   "source": [
    "pd.options.display.float_format = lambda x: '%.2f' % x if pd.api.types.is_numeric_dtype(x) else '%s' % x"
   ]
  },
  {
   "cell_type": "code",
   "execution_count": null,
   "id": "fee0745c",
   "metadata": {},
   "outputs": [],
   "source": [
    "df.corr()"
   ]
  },
  {
   "cell_type": "code",
   "execution_count": null,
   "id": "1d7f0f2a",
   "metadata": {},
   "outputs": [],
   "source": [
    "# Heatmap graph using correlation data\n",
    "sns.heatmap(df.corr(), annot = True)\n",
    "\n",
    "plt.rcParams['figure.figsize'] = (20,7)\n",
    "\n",
    "plt.show()"
   ]
  },
  {
   "cell_type": "code",
   "execution_count": null,
   "id": "270b689e",
   "metadata": {},
   "outputs": [],
   "source": [
    "df['Continent'] = pd.to_numeric(df['Continent'], errors='coerce')"
   ]
  },
  {
   "cell_type": "code",
   "execution_count": null,
   "id": "072fad0c",
   "metadata": {},
   "outputs": [],
   "source": [
    "df.groupby('Continent')['2022 Population'].mean().sort_values(ascending=False)"
   ]
  },
  {
   "cell_type": "code",
   "execution_count": null,
   "id": "67071173",
   "metadata": {},
   "outputs": [],
   "source": [
    "df['Continent'] = df['Continent'].astype(str)"
   ]
  },
  {
   "cell_type": "code",
   "execution_count": null,
   "id": "a215a6b7",
   "metadata": {},
   "outputs": [],
   "source": [
    "# Search for value in the dataFrame\n",
    "df[df['Continent'].str.contains('Oceania')]"
   ]
  },
  {
   "cell_type": "code",
   "execution_count": null,
   "id": "821ebfdd",
   "metadata": {},
   "outputs": [],
   "source": [
    "# Using columns names to call columns\n",
    "df2 = df.groupby('Continent')[['1970 Population','1980 Population','1990 Population',\n",
    "       '2000 Population', '2010 Population', '2015 Population',\n",
    "       '2020 Population', '2022 Population',\n",
    "       ]].mean().sort_values(by=\"2022 Population\",ascending=False)\n",
    "\n",
    "# Using index to call columns\n",
    "#df2 = df.groupby('Continent')[df.columns[5:14]].mean().sort_values(by=\"2022 Population\",ascending=False)\n",
    "df2"
   ]
  },
  {
   "cell_type": "code",
   "execution_count": null,
   "id": "ec4b4981",
   "metadata": {},
   "outputs": [],
   "source": [
    "df3 = df2.transpose()\n",
    "df3"
   ]
  },
  {
   "cell_type": "code",
   "execution_count": null,
   "id": "0319114b",
   "metadata": {},
   "outputs": [],
   "source": [
    "df3.plot(figsize=(18,7))"
   ]
  },
  {
   "cell_type": "code",
   "execution_count": null,
   "id": "d16b7214",
   "metadata": {},
   "outputs": [],
   "source": [
    "# Box plot good to find outliers/ lower and upper quartile\n",
    "df.boxplot(figsize=(20,7))"
   ]
  },
  {
   "cell_type": "code",
   "execution_count": null,
   "id": "0d4271a3",
   "metadata": {},
   "outputs": [],
   "source": [
    "# Check for data types (only return the specified column)\n",
    "df.select_dtypes(include='number')\n",
    "df.select_dtypes(include='object')"
   ]
  },
  {
   "cell_type": "code",
   "execution_count": null,
   "id": "1cf79223",
   "metadata": {},
   "outputs": [],
   "source": []
  },
  {
   "cell_type": "code",
   "execution_count": null,
   "id": "7a2e9542",
   "metadata": {},
   "outputs": [],
   "source": []
  },
  {
   "cell_type": "code",
   "execution_count": null,
   "id": "c87b6157",
   "metadata": {},
   "outputs": [],
   "source": []
  },
  {
   "cell_type": "code",
   "execution_count": null,
   "id": "fc5a298b",
   "metadata": {},
   "outputs": [],
   "source": []
  },
  {
   "cell_type": "code",
   "execution_count": null,
   "id": "9f071c85",
   "metadata": {},
   "outputs": [],
   "source": []
  },
  {
   "cell_type": "code",
   "execution_count": null,
   "id": "37d7a43a",
   "metadata": {},
   "outputs": [],
   "source": []
  },
  {
   "cell_type": "code",
   "execution_count": null,
   "id": "a11efd36",
   "metadata": {},
   "outputs": [],
   "source": []
  },
  {
   "cell_type": "code",
   "execution_count": null,
   "id": "40792b93",
   "metadata": {},
   "outputs": [],
   "source": []
  },
  {
   "cell_type": "code",
   "execution_count": null,
   "id": "45857a09",
   "metadata": {},
   "outputs": [],
   "source": []
  },
  {
   "cell_type": "code",
   "execution_count": null,
   "id": "e864e028",
   "metadata": {},
   "outputs": [],
   "source": []
  },
  {
   "cell_type": "code",
   "execution_count": null,
   "id": "f72b7581",
   "metadata": {},
   "outputs": [],
   "source": []
  },
  {
   "cell_type": "code",
   "execution_count": null,
   "id": "f5c3d3a4",
   "metadata": {},
   "outputs": [],
   "source": []
  },
  {
   "cell_type": "code",
   "execution_count": null,
   "id": "2c0537e6",
   "metadata": {},
   "outputs": [],
   "source": []
  },
  {
   "cell_type": "code",
   "execution_count": null,
   "id": "80c8249e",
   "metadata": {},
   "outputs": [],
   "source": []
  },
  {
   "cell_type": "code",
   "execution_count": null,
   "id": "f603ff36",
   "metadata": {},
   "outputs": [],
   "source": []
  },
  {
   "cell_type": "code",
   "execution_count": null,
   "id": "a6bfdb3e",
   "metadata": {},
   "outputs": [],
   "source": []
  }
 ],
 "metadata": {
  "kernelspec": {
   "display_name": "Python 3 (ipykernel)",
   "language": "python",
   "name": "python3"
  },
  "language_info": {
   "codemirror_mode": {
    "name": "ipython",
    "version": 3
   },
   "file_extension": ".py",
   "mimetype": "text/x-python",
   "name": "python",
   "nbconvert_exporter": "python",
   "pygments_lexer": "ipython3",
   "version": "3.11.7"
  }
 },
 "nbformat": 4,
 "nbformat_minor": 5
}
