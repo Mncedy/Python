{
 "cells": [
  {
   "cell_type": "markdown",
   "metadata": {},
   "source": [
    "# My First Notebook"
   ]
  },
  {
   "cell_type": "code",
   "execution_count": 9,
   "metadata": {},
   "outputs": [
    {
     "data": {
      "text/plain": [
       "['Vanilla', 'Strawberry', 'Chocolate', ['Peri-peri', 'Spicy'], 10, True]"
      ]
     },
     "execution_count": 9,
     "metadata": {},
     "output_type": "execute_result"
    }
   ],
   "source": [
    "ice_cream = ['Vanilla', 'Strawberry', 'Chocolate', ['Peri-peri', 'Spicy'], 10, True]\n",
    "\n",
    "ice_cream"
   ]
  },
  {
   "cell_type": "code",
   "execution_count": 10,
   "metadata": {},
   "outputs": [
    {
     "data": {
      "text/plain": [
       "['Vanilla', 'Strawberry', 'Chocolate', ['Peri-peri', 'Spicy'], 10, True, False]"
      ]
     },
     "execution_count": 10,
     "metadata": {},
     "output_type": "execute_result"
    }
   ],
   "source": [
    "ice_cream.append(False)\n",
    "\n",
    "ice_cream"
   ]
  },
  {
   "cell_type": "code",
   "execution_count": 11,
   "metadata": {},
   "outputs": [
    {
     "data": {
      "text/plain": [
       "['Vanilla', 'Fruit Mix', 'Chocolate', ['Peri-peri', 'Spicy'], 10, True, False]"
      ]
     },
     "execution_count": 11,
     "metadata": {},
     "output_type": "execute_result"
    }
   ],
   "source": [
    "ice_cream[1] = 'Fruit Mix'\n",
    "\n",
    "ice_cream"
   ]
  },
  {
   "cell_type": "code",
   "execution_count": 15,
   "metadata": {},
   "outputs": [
    {
     "data": {
      "text/plain": [
       "'Peri-peri'"
      ]
     },
     "execution_count": 15,
     "metadata": {},
     "output_type": "execute_result"
    }
   ],
   "source": [
    "# Nested list\n",
    "ice_cream[3][0]"
   ]
  },
  {
   "cell_type": "code",
   "execution_count": 17,
   "metadata": {},
   "outputs": [
    {
     "data": {
      "text/plain": [
       "8"
      ]
     },
     "execution_count": 17,
     "metadata": {},
     "output_type": "execute_result"
    }
   ],
   "source": [
    "# Tuple\n",
    "\n",
    "scoops = (5,6,7,8,5,3,7,7,0)\n",
    "\n",
    "scoops[3]"
   ]
  },
  {
   "cell_type": "code",
   "execution_count": 20,
   "metadata": {},
   "outputs": [
    {
     "name": "stdout",
     "output_type": "stream",
     "text": [
      "{1, 2, 3, 4, 5, 6, 7, 8, 9}\n",
      "{1, 3, 5}\n",
      "{2, 4, 6, 7, 8, 9}\n"
     ]
    }
   ],
   "source": [
    "# Sets /No duplicates /cannot be indexed (unordered)/\n",
    "\n",
    "pints = {2,3,5}\n",
    "\n",
    "pints_week = {1,3,2,6,5,8,3,2,2,}\n",
    "\n",
    "bro_pints_week = {3,4,5,5,1,7,9}\n",
    "\n",
    "print(pints_week | bro_pints_week)\n",
    "\n",
    "# show duplicate only\n",
    "\n",
    "print(pints_week & bro_pints_week)\n",
    "\n",
    "# Unique numbers in both sets\n",
    "\n",
    "print(pints_week ^ bro_pints_week)\n"
   ]
  },
  {
   "cell_type": "code",
   "execution_count": 30,
   "metadata": {},
   "outputs": [
    {
     "name": "stdout",
     "output_type": "stream",
     "text": [
      "{'name': 'Skarra Ngobese', 'goals': 129, 'club': 'Kaizer Chiefs', 'cards': ['Yellow', 'Red']}\n",
      "{'name': 'Arthur 10111 Zwane', 'goals': 129, 'club': 'Kaizer Chiefs', 'cards': ['Yellow', 'Red']}\n",
      "{'name': 'Skarra Ngobese', 'goals': 129, 'club': 'Kaizer Chiefs', 'cards': ['Yellow = 18', 'Red = 0'], 'assist': 87}\n",
      "{'name': 'Skarra Ngobese', 'goals': 129, 'club': 'Kaizer Chiefs', 'cards': ['Yellow = 18', 'Red = 0']}\n"
     ]
    }
   ],
   "source": [
    "# Dictionary\n",
    "# Key/Value Pair\n",
    "\n",
    "dict_emp = {'name': 'Skarra Ngobese', 'goals': 129, 'club': 'Kaizer Chiefs', 'cards': ['Yellow', 'Red']}\n",
    "\n",
    "print(dict_emp)\n",
    "\n",
    "# print keys only\n",
    "dict_emp.keys()\n",
    "\n",
    "# print values only\n",
    "dict_emp.values()\n",
    "\n",
    "# print key and values as items\n",
    "dict_emp.items()\n",
    "\n",
    "# call dict\n",
    "dict_emp['name']\n",
    "\n",
    "# update dict\n",
    "dict_emp['name'] = 'Arthur 10111 Zwane'\n",
    "print(dict_emp)\n",
    "\n",
    "dict_emp.update({'name': 'Skarra Ngobese', 'goals': 129, 'club': 'Kaizer Chiefs', 'assist': 87, 'cards': ['Yellow = 18', 'Red = 0']})\n",
    "print(dict_emp)\n",
    "\n",
    "# Delete a key/value from dict\n",
    "del dict_emp['assist']\n",
    "print(dict_emp)\n",
    "\n"
   ]
  },
  {
   "cell_type": "code",
   "execution_count": 39,
   "metadata": {},
   "outputs": [
    {
     "name": "stdout",
     "output_type": "stream",
     "text": [
      "name : Skarra Ngobese\n",
      "goals : 129\n",
      "club : Kaizer Chiefs\n",
      "cards : ['Yellow', 'Red']\n"
     ]
    }
   ],
   "source": [
    "dict_emp = {'name': 'Skarra Ngobese', 'goals': 129, 'club': 'Kaizer Chiefs', 'cards': ['Yellow', 'Red']}\n",
    "for info, player in dict_emp.items():\n",
    "    print(info, ':', player)"
   ]
  },
  {
   "cell_type": "code",
   "execution_count": 42,
   "metadata": {},
   "outputs": [
    {
     "name": "stdout",
     "output_type": "stream",
     "text": [
      "Skarra played for Chiefs\n",
      "Manyathela played for Chiefs\n",
      "Leremi played for Chiefs\n",
      "Skarra played for Pirates\n",
      "Manyathela played for Pirates\n",
      "Leremi played for Pirates\n",
      "Skarra played for Sundowns\n",
      "Manyathela played for Sundowns\n",
      "Leremi played for Sundowns\n"
     ]
    }
   ],
   "source": [
    "\n",
    "clubs = ['Chiefs', 'Pirates', 'Sundowns']\n",
    "players = ['Skarra', 'Manyathela', 'Leremi']\n",
    "for club in clubs:\n",
    "    for player in players:\n",
    "        print(player, 'played for', club)\n"
   ]
  },
  {
   "cell_type": "code",
   "execution_count": 43,
   "metadata": {},
   "outputs": [
    {
     "name": "stdout",
     "output_type": "stream",
     "text": [
      "0\n",
      "1\n",
      "2\n",
      "3\n",
      "4\n",
      "> 5\n"
     ]
    }
   ],
   "source": [
    "number = 0 \n",
    "\n",
    "while number < 5:\n",
    "    print(number)\n",
    "    number += 1\n",
    "else:\n",
    "    print('> 5')"
   ]
  },
  {
   "cell_type": "code",
   "execution_count": 44,
   "metadata": {},
   "outputs": [
    {
     "name": "stdout",
     "output_type": "stream",
     "text": [
      "0\n",
      "1\n",
      "2\n"
     ]
    }
   ],
   "source": [
    "number = 0 \n",
    "\n",
    "while number < 5:\n",
    "    print(number)\n",
    "    if number == 2:\n",
    "        break\n",
    "    number += 1\n",
    "else:\n",
    "    print('> 5')"
   ]
  },
  {
   "cell_type": "code",
   "execution_count": 45,
   "metadata": {},
   "outputs": [
    {
     "name": "stdout",
     "output_type": "stream",
     "text": [
      "1\n",
      "3\n",
      "4\n",
      "5\n",
      "> 5\n"
     ]
    }
   ],
   "source": [
    "number = 0 \n",
    "\n",
    "while number < 5:\n",
    "    number += 1\n",
    "    if number == 2:\n",
    "        continue\n",
    "    print(number)\n",
    "else:\n",
    "    print('> 5')"
   ]
  },
  {
   "cell_type": "markdown",
   "metadata": {},
   "source": [
    "# Coverting Data Types\n"
   ]
  },
  {
   "cell_type": "code",
   "execution_count": 6,
   "metadata": {},
   "outputs": [
    {
     "data": {
      "text/plain": [
       "int"
      ]
     },
     "execution_count": 6,
     "metadata": {},
     "output_type": "execute_result"
    }
   ],
   "source": [
    "num = 10\n",
    "type(num)\n"
   ]
  },
  {
   "cell_type": "code",
   "execution_count": 7,
   "metadata": {},
   "outputs": [
    {
     "data": {
      "text/plain": [
       "str"
      ]
     },
     "execution_count": 7,
     "metadata": {},
     "output_type": "execute_result"
    }
   ],
   "source": [
    "name = 'Messi'\n",
    "type(name)"
   ]
  },
  {
   "cell_type": "code",
   "execution_count": 13,
   "metadata": {},
   "outputs": [
    {
     "data": {
      "text/plain": [
       "str"
      ]
     },
     "execution_count": 13,
     "metadata": {},
     "output_type": "execute_result"
    }
   ],
   "source": [
    "num = 10\n",
    "num_conv = str(num)\n",
    "type(num_conv)"
   ]
  },
  {
   "cell_type": "code",
   "execution_count": 17,
   "metadata": {},
   "outputs": [
    {
     "name": "stdout",
     "output_type": "stream",
     "text": [
      "Messi 10\n"
     ]
    }
   ],
   "source": [
    "player = name + ' ' + num_conv\n",
    "print(player)"
   ]
  },
  {
   "cell_type": "code",
   "execution_count": 23,
   "metadata": {},
   "outputs": [
    {
     "data": {
      "text/plain": [
       "set"
      ]
     },
     "execution_count": 23,
     "metadata": {},
     "output_type": "execute_result"
    }
   ],
   "source": [
    "# Converting a List to a Set\n",
    "list = [8,9,3,6,1,4,5,6,4,8]\n",
    "\n",
    "type(set(list))"
   ]
  },
  {
   "cell_type": "code",
   "execution_count": null,
   "metadata": {},
   "outputs": [],
   "source": [
    "# Dict\n",
    "\n",
    "dict_player = {'name': 'Skarra Ngobese', 'goals': 129, 'club': 'Kaizer Chiefs', 'assists':87, 'cards': ['Yellow', 'Red']}\n",
    "\n",
    "#type(dict_player)\n",
    "#dict_player.items()\n",
    "#dict_player.values()\n",
    "#dict_player.keys()\n",
    "\n",
    "keys_list = list(dict_player.keys())\n",
    "print(keys_list)"
   ]
  },
  {
   "cell_type": "markdown",
   "metadata": {},
   "source": []
  },
  {
   "cell_type": "markdown",
   "metadata": {},
   "source": []
  },
  {
   "cell_type": "code",
   "execution_count": null,
   "metadata": {},
   "outputs": [],
   "source": []
  },
  {
   "cell_type": "code",
   "execution_count": null,
   "metadata": {},
   "outputs": [],
   "source": []
  },
  {
   "cell_type": "code",
   "execution_count": null,
   "metadata": {},
   "outputs": [],
   "source": []
  }
 ],
 "metadata": {
  "kernelspec": {
   "display_name": "Python 3",
   "language": "python",
   "name": "python3"
  },
  "language_info": {
   "codemirror_mode": {
    "name": "ipython",
    "version": 3
   },
   "file_extension": ".py",
   "mimetype": "text/x-python",
   "name": "python",
   "nbconvert_exporter": "python",
   "pygments_lexer": "ipython3",
   "version": "3.11.9"
  }
 },
 "nbformat": 4,
 "nbformat_minor": 2
}
