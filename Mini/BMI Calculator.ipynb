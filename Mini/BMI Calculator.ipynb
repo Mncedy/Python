{
 "cells": [
  {
   "cell_type": "code",
   "execution_count": null,
   "metadata": {},
   "outputs": [],
   "source": [
    "name = input(\"Enter your name: \")\n",
    "weight = int(input(\"Enter your weight in pounds: \"))\n",
    "height = int(input(\"Enter your weight in pounds: \"))\n",
    "BMI = (weight * 703) / (height * height)\n",
    "\n",
    "if BMI >0:\n",
    "    if(BMI < 18.5):\n",
    "        print(name + \", you're underweight\")\n",
    "    elif(BMI <=24.9):\n",
    "        print(name +\", you're normal\")\n",
    "    elif(BMI <=29.9):\n",
    "        print(name + \", you're overweight\")\n",
    "    elif(BMI <=34.9):\n",
    "        print(name + \", you're obese\")\n",
    "    elif(BMI <=39.9):\n",
    "        print(name + \", you're severely Obese\")\n",
    "    else:\n",
    "        print(name + \", you're morbidly Obese\")\n",
    "else:\n",
    "    print(\"Invalid input.\")\n",
    "\n",
    "print(BMI)"
   ]
  },
  {
   "cell_type": "code",
   "execution_count": null,
   "metadata": {},
   "outputs": [],
   "source": []
  },
  {
   "cell_type": "code",
   "execution_count": null,
   "metadata": {},
   "outputs": [],
   "source": [
    "#BMI = (weight in pounds x 703) / (height in inches x height in inches)"
   ]
  },
  {
   "cell_type": "code",
   "execution_count": null,
   "metadata": {},
   "outputs": [],
   "source": []
  },
  {
   "cell_type": "code",
   "execution_count": null,
   "metadata": {},
   "outputs": [],
   "source": []
  },
  {
   "cell_type": "code",
   "execution_count": null,
   "metadata": {},
   "outputs": [],
   "source": []
  },
  {
   "cell_type": "code",
   "execution_count": null,
   "metadata": {},
   "outputs": [],
   "source": []
  }
 ],
 "metadata": {
  "kernelspec": {
   "display_name": "Python 3",
   "language": "python",
   "name": "python3"
  },
  "language_info": {
   "codemirror_mode": {
    "name": "ipython",
    "version": 3
   },
   "file_extension": ".py",
   "mimetype": "text/x-python",
   "name": "python",
   "nbconvert_exporter": "python",
   "pygments_lexer": "ipython3",
   "version": "3.11.9"
  }
 },
 "nbformat": 4,
 "nbformat_minor": 2
}
